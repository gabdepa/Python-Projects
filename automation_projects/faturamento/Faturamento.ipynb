{
 "cells": [
  {
   "cell_type": "markdown",
   "id": "c00f51dd",
   "metadata": {},
   "source": [
    "# Faturamento"
   ]
  },
  {
   "cell_type": "markdown",
   "id": "3051cb8e",
   "metadata": {},
   "source": [
    "- Acessar o fraction e fazer o download do pdf"
   ]
  },
  {
   "cell_type": "code",
   "execution_count": null,
   "id": "9f2e8cde",
   "metadata": {},
   "outputs": [],
   "source": [
    "from selenium import webdriver # criar o navegador\n",
    "from selenium.webdriver.common.by import By # Localizar elementos (itens de um site)\n",
    "from selenium.webdriver.common.keys import Keys # Permite clicar teclas no teclado\n",
    "import pyautogui\n",
    "import pyperclip\n",
    "import time\n",
    "\n",
    "navegador = webdriver.Chrome()\n",
    "\n",
    "user = \"30566\"\n",
    "senha = \"030401\"\n",
    "fechamento = \"30/04/2022\"\n",
    "UNIDADE = \"GPM\"\n",
    "QUINZENA = \"30_04_22\"\n",
    "\n",
    "### Passo 1: Acessar Fraction WEB\n",
    "navegador.get(\"http://jadlog.com/FractionWeb/login.jad?state=invalid\")\n",
    "\n",
    "### Passo 2: Entrar Fraction WEB(Usuário, Senha = Parâmetro)\n",
    "navegador.find_element(By.XPATH,\n",
    "                      '//*[@id=\"id_usuario\"]').send_keys(user)\n",
    "\n",
    "navegador.find_element(By.XPATH,\n",
    "                      '//*[@id=\"id_senha\"]').send_keys(senha)\n",
    "\n",
    "navegador.find_element(By.XPATH,\n",
    "                      '//*[@id=\"botao_login\"]').send_keys(Keys.ENTER)\n",
    "\n",
    "### Passo 3: Acessar Campo Financeiro -> Folha Apoio\n",
    "navegador.find_element(By.XPATH,\n",
    "                       '//*[@id=\"j_idt19:j_idt20\"]/ul/li[4]/a/span[2]').click()\n",
    "\n",
    "navegador.find_element(By.XPATH,\n",
    "                       '//*[@id=\"j_idt19:j_idt20\"]/ul/li[4]/ul/li[1]/a/span[2]').click()\n",
    "\n",
    "### Passo 4: Click em Campo Resumo\n",
    "time.sleep(0.5)\n",
    "cords = pyautogui.locateCenterOnScreen(r\"/home/grpp/Personal_Projects/Python_Projects/automation_pycharm/screenshts/resumo.png\")\n",
    "pyautogui.click(cords)\n",
    "\n",
    "### Passo 4: Click em Campo Quinzenal\n",
    "cords = pyautogui.locateCenterOnScreen(r\"/home/grpp/Personal_Projects/Python_Projects/automation_pycharm/screenshts/quinzenal.png\")\n",
    "pyautogui.click(cords)\n",
    "\n",
    "### Passo 6: Escrever fechamento no campo data(15/<MÊS> ou 30/<MÊS> ou 31/<MÊS> = Parâmetro)\n",
    "navegador.find_element(By.XPATH,'//*[@id=\"j_idt258_input\"]').send_keys(fechamento)\n",
    "\n",
    "### Passo 7: Click em Campo Excel\n",
    "navegador.find_element(By.XPATH,'//*[@id=\"id_exportar_excel\"]').click()\n",
    "\n",
    "### Passo 8: Faz Logout\n",
    "time.sleep(1.5)\n",
    "navegador.find_element(By.XPATH,'//*[@id=\"j_idt19:logout\"]').click()\n",
    "\n",
    "### Passo 9: Fecha o navegador\n",
    "navegador.quit()"
   ]
  }
 ],
 "metadata": {
  "kernelspec": {
   "display_name": "Python 3 (ipykernel)",
   "language": "python",
   "name": "python3"
  },
  "language_info": {
   "codemirror_mode": {
    "name": "ipython",
    "version": 3
   },
   "file_extension": ".py",
   "mimetype": "text/x-python",
   "name": "python",
   "nbconvert_exporter": "python",
   "pygments_lexer": "ipython3",
   "version": "3.10.4"
  }
 },
 "nbformat": 4,
 "nbformat_minor": 5
}
